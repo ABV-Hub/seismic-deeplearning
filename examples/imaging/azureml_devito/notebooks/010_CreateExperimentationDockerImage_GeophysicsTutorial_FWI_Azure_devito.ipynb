{
 "cells": [
  {
   "cell_type": "markdown",
   "metadata": {},
   "source": [
    "# FWI in Azure project\n",
    "\n",
    "## Create Experimentation Docker image\n",
    "\n",
    "FWI demo based on: \n",
    "This project ports devito (https://github.com/opesci/devito) into Azure and runs tutorial notebooks at:\n",
    "https://nbviewer.jupyter.org/github/opesci/devito/blob/master/examples/seismic/tutorials/\n",
    "\n",
    "\n",
    "\n",
    "In this notebook we create a custom docker image that will be used to run the devito demo notebooks in AzureML. \n",
    "\n",
    " - We transparently create a docker file, a conda environment .yml file, build the docker image and push it into dockerhub. Azure ACR could also be used for storing docker images. \n",
    " - The conda environment .yml file lists conda and pip installs, and separates all python dependencies from the docker installs. \n",
    " - The dockerfile is generic. The only AzureML depedency is azureml-sdk pip installable package in conda environment .yml file\n",
    " - The created docer image will be run in following notebook in a container on the local AzureVM or on a remote AzureML compute cluster. This AzureML pattern decouples experimentation (or training) job definition (experimentation script, data location, dependencies and docker image) happening on the control plane machine that runs this notebook, from the elastically allocated and Azure managed VM/cluster that does the actual training/experimentation computation.\n",
    " \n",
    "<a id='user_input_requiring_steps'></a>\n",
    "User input requiring steps:\n",
    " - [Fill in and save docker image name settings, if needed. ](#docker_image_settings)\n",
    " - [Update DOCKER_CONTAINER_MOUNT_POINT to match our local path](#docker_image_settings)\n",
    " - [Set docker build and test flags](#docker_build_test_settings) \n"
   ]
  },
  {
   "cell_type": "code",
   "execution_count": 1,
   "metadata": {},
   "outputs": [],
   "source": [
    "# Allow multiple displays per cell\n",
    "from IPython.core.interactiveshell import InteractiveShell\n",
    "InteractiveShell.ast_node_interactivity = \"all\" "
   ]
  },
  {
   "cell_type": "code",
   "execution_count": 2,
   "metadata": {},
   "outputs": [],
   "source": [
    "import sys, os\n",
    "import shutil\n",
    "import urllib\n",
    "import azureml.core\n",
    "from azureml.core import Workspace, Experiment\n",
    "from azureml.core.datastore import Datastore\n",
    "from azureml.core.compute import ComputeTarget, AmlCompute\n",
    "from azureml.core.runconfig import MpiConfiguration\n",
    "from azureml.exceptions import ComputeTargetException\n",
    "from azureml.data.data_reference import DataReference\n",
    "from azureml.pipeline.steps import HyperDriveStep\n",
    "from azureml.pipeline.core import Pipeline, PipelineData\n",
    "from azureml.train.dnn import TensorFlow\n",
    "\n",
    "from azureml.train.estimator import Estimator\n",
    "from azureml.widgets import RunDetails\n",
    "\n",
    "\n",
    "import platform\n",
    "import math\n",
    "import docker"
   ]
  },
  {
   "cell_type": "code",
   "execution_count": 3,
   "metadata": {},
   "outputs": [
    {
     "name": "stdout",
     "output_type": "stream",
     "text": [
      "Azure ML SDK Version:  1.0.65\n"
     ]
    },
    {
     "data": {
      "text/plain": [
       "'Linux-4.15.0-1060-azure-x86_64-with-debian-10.0'"
      ]
     },
     "execution_count": 3,
     "metadata": {},
     "output_type": "execute_result"
    },
    {
     "data": {
      "text/plain": [
       "'/workspace/examples/imaging/azureml_devito/notebooks'"
      ]
     },
     "execution_count": 3,
     "metadata": {},
     "output_type": "execute_result"
    }
   ],
   "source": [
    "print(\"Azure ML SDK Version: \", azureml.core.VERSION)\n",
    "platform.platform()\n",
    "os.getcwd()"
   ]
  },
  {
   "cell_type": "markdown",
   "metadata": {},
   "source": [
    "<a id='docker_build_test_settings'></a>\n",
    "#### Setup docker image build and test process. \n",
    " - devito tests take abou 15 mins (981.41 seconds). When running this notebook for first time make:\n",
    "     > docker_build_no_cache = '--no-cache'  \n",
    "     > docker_test_run_devito_tests = True\n",
    "     \n",
    "[Back](#user_input_requiring_steps) to summary of user input requiring steps."
   ]
  },
  {
   "cell_type": "code",
   "execution_count": 4,
   "metadata": {},
   "outputs": [],
   "source": [
    "docker_build_no_cache = ''  # '--no-cache' # or '' #\n",
    "docker_test_run_devito_tests = False # True # False"
   ]
  },
  {
   "cell_type": "markdown",
   "metadata": {},
   "source": [
    "##### Import utilities functions"
   ]
  },
  {
   "cell_type": "code",
   "execution_count": 5,
   "metadata": {},
   "outputs": [
    {
     "data": {
      "text/plain": [
       "[None]"
      ]
     },
     "execution_count": 5,
     "metadata": {},
     "output_type": "execute_result"
    }
   ],
   "source": [
    "def add_path_to_sys_path(path_to_append):\n",
    "    if not (any(path_to_append in paths for paths in sys.path)):\n",
    "        sys.path.append(path_to_append)\n",
    "        \n",
    "auxiliary_files_dir = os.path.join(*(['.', 'src']))\n",
    "paths_to_append = [os.path.join(os.getcwd(), auxiliary_files_dir)]\n",
    "[add_path_to_sys_path(crt_path) for crt_path in paths_to_append]\n",
    "\n",
    "import project_utils\n",
    "prj_consts = project_utils.project_consts()"
   ]
  },
  {
   "cell_type": "markdown",
   "metadata": {},
   "source": [
    "##### Create experimentation docker file"
   ]
  },
  {
   "cell_type": "code",
   "execution_count": 6,
   "metadata": {},
   "outputs": [
    {
     "data": {
      "text/plain": [
       "'./../not_shared/general.env'"
      ]
     },
     "execution_count": 6,
     "metadata": {},
     "output_type": "execute_result"
    }
   ],
   "source": [
    "dotenv_file_path = os.path.join(*(prj_consts.DOTENV_FILE_PATH))\n",
    "dotenv_file_path"
   ]
  },
  {
   "cell_type": "markdown",
   "metadata": {},
   "source": [
    "<a id='docker_image_settings'></a>\n",
    "\n",
    "##### Input here docker image settings \n",
    "in cell below we use [dotenv](https://github.com/theskumar/python-dotenv) to overwrite docker image properties already save in dotenv_file_path. Change as needed, e.g. update azureml_sdk version if using a different version.\n",
    "\n",
    "[Back](#user_input_requiring_steps) to summary of user input requiring steps."
   ]
  },
  {
   "cell_type": "code",
   "execution_count": 7,
   "metadata": {},
   "outputs": [
    {
     "data": {
      "text/plain": [
       "(True, 'EXPERIMENTATION_IMAGE_VERSION', 'sdk.v1.0.65')"
      ]
     },
     "execution_count": 7,
     "metadata": {},
     "output_type": "execute_result"
    },
    {
     "data": {
      "text/plain": [
       "(True, 'EXPERIMENTATION_IMAGE_TAG', 'fwi01_azureml')"
      ]
     },
     "execution_count": 7,
     "metadata": {},
     "output_type": "execute_result"
    },
    {
     "data": {
      "text/plain": [
       "(True,\n",
       " 'DOCKER_CONTAINER_MOUNT_POINT',\n",
       " '/datadrive01/prj/DeepSeismic/examples/imaging/azureml_devito/notebooks')"
      ]
     },
     "execution_count": 7,
     "metadata": {},
     "output_type": "execute_result"
    }
   ],
   "source": [
    "# SDK changes often, so we'll keep its version transparent \n",
    "import dotenv\n",
    "\n",
    "# EXPERIMENTATION_IMAGE_VERSION should:\n",
    "# - match sdk version in fwi01_conda_env01 environmnet in conda_env_fwi01_azureml_sdk.v1.0.XX.yml file below\n",
    "# -  match the conda env yml file name, e.g. conda_env_fwi01_azureml_sdk.v1.0.62.yml referenced in \n",
    "#      Dockerfile_fwi01_azureml_sdk.v1.0.62\n",
    "dotenv.set_key(dotenv_file_path, 'EXPERIMENTATION_IMAGE_VERSION', 'sdk.v1.0.65')\n",
    "dotenv.set_key(dotenv_file_path, 'EXPERIMENTATION_IMAGE_TAG', 'fwi01_azureml')\n",
    "dotenv.set_key(dotenv_file_path, 'DOCKER_CONTAINER_MOUNT_POINT', '/datadrive01/prj/DeepSeismic/examples/imaging/azureml_devito/notebooks')"
   ]
  },
  {
   "cell_type": "code",
   "execution_count": 8,
   "metadata": {},
   "outputs": [
    {
     "data": {
      "text/plain": [
       "'georgedockeraccount/fwi01_azureml:sdk.v1.0.65'"
      ]
     },
     "execution_count": 8,
     "metadata": {},
     "output_type": "execute_result"
    },
    {
     "data": {
      "text/plain": [
       "'conda_env_fwi01_azureml_sdk.v1.0.65.yml'"
      ]
     },
     "execution_count": 8,
     "metadata": {},
     "output_type": "execute_result"
    },
    {
     "data": {
      "text/plain": [
       "'/workspace/examples/imaging/azureml_devito/notebooks/./../temp/docker_build/conda_env_fwi01_azureml_sdk.v1.0.65.yml'"
      ]
     },
     "execution_count": 8,
     "metadata": {},
     "output_type": "execute_result"
    },
    {
     "data": {
      "text/plain": [
       "'/workspace/examples/imaging/azureml_devito/notebooks/./../temp/docker_build'"
      ]
     },
     "execution_count": 8,
     "metadata": {},
     "output_type": "execute_result"
    },
    {
     "data": {
      "text/plain": [
       "'/workspace/examples/imaging/azureml_devito/notebooks/./../temp/docker_build/Dockerfile_fwi01_azureml_sdk.v1.0.65'"
      ]
     },
     "execution_count": 8,
     "metadata": {},
     "output_type": "execute_result"
    }
   ],
   "source": [
    "%load_ext dotenv\n",
    "%dotenv $dotenv_file_path\n",
    "\n",
    "docker_file_location = os.path.join(*(prj_consts.AML_EXPERIMENT_DIR + ['docker_build']))\n",
    "\n",
    "docker_file_name = 'Dockerfile'+ '_' + os.getenv('EXPERIMENTATION_IMAGE_TAG')\n",
    "conda_dependency_file_name = 'conda_env'+ '_' + os.getenv('EXPERIMENTATION_IMAGE_TAG')\n",
    "devito_conda_dependency_file_name = 'devito_conda_env'+'.yml'\n",
    "docker_image_name = os.getenv('DOCKER_LOGIN') + '/' + os.getenv('EXPERIMENTATION_IMAGE_TAG')\n",
    "image_version = os.getenv('EXPERIMENTATION_IMAGE_VERSION')\n",
    "if image_version!=\"\":\n",
    "    docker_file_name = docker_file_name +'_'+ image_version\n",
    "    conda_dependency_file_name = conda_dependency_file_name+'_'+ image_version\n",
    "    docker_image_name = docker_image_name +':'+ image_version\n",
    "conda_dependency_file_name=conda_dependency_file_name+'.yml'\n",
    "\n",
    "docker_file_dir = os.path.join(*([os.getcwd(), docker_file_location]))\n",
    "os.makedirs(docker_file_dir, exist_ok=True)\n",
    "docker_file_path = os.path.join(*([docker_file_dir]+[docker_file_name]))\n",
    "conda_file_path = os.path.join(*([docker_file_dir]+[conda_dependency_file_name]))\n",
    "\n",
    "docker_image_name\n",
    "conda_dependency_file_name\n",
    "conda_file_path\n",
    "docker_file_dir\n",
    "docker_file_path"
   ]
  },
  {
   "cell_type": "code",
   "execution_count": 9,
   "metadata": {},
   "outputs": [
    {
     "name": "stdout",
     "output_type": "stream",
     "text": [
      "Overwriting /workspace/examples/imaging/azureml_devito/notebooks/./../temp/docker_build/conda_env_fwi01_azureml_sdk.v1.0.65.yml\n"
     ]
    }
   ],
   "source": [
    "%%writefile $conda_file_path\n",
    "name: fwi01_conda_env01\n",
    "    \n",
    "#https://storage.googleapis.com/tensorflow/linux/gpu/tensorflow_gpu-1.13.1-cp37-cp37m-linux_x86_64.whl    \n",
    "# https://github.com/dask/dask-tutorial\n",
    "\n",
    "channels:\n",
    "  - anaconda\n",
    "  - conda-forge\n",
    "dependencies:\n",
    "  - python=3.6 # 3.6 req by tf, not 3.7.2 \n",
    "  - dask\n",
    "  - distributed\n",
    "  - h5py\n",
    "  - matplotlib\n",
    "  - nb_conda\n",
    "  - notebook \n",
    "  - numpy \n",
    "  - pandas\n",
    "  - pip\n",
    "  - py-cpuinfo # all required by devito or dask-tutorial\n",
    "  - pytables\n",
    "  - python-graphviz\n",
    "  - requests>=2.19.1\n",
    "  - pillow\n",
    "  - scipy\n",
    "  - snakeviz\n",
    "  - scikit-image\n",
    "  - toolz\n",
    "  - pip:\n",
    "    - anytree # required by devito\n",
    "    - azureml-sdk[notebooks,automl]==1.0.65\n",
    "    - codepy # required by devito\n",
    "    - papermill[azure]\n",
    "    - pyrevolve # required by devito"
   ]
  },
  {
   "cell_type": "code",
   "execution_count": 10,
   "metadata": {},
   "outputs": [
    {
     "name": "stdout",
     "output_type": "stream",
     "text": [
      "Overwriting /workspace/examples/imaging/azureml_devito/notebooks/./../temp/docker_build/Dockerfile_fwi01_azureml_sdk.v1.0.65\n"
     ]
    }
   ],
   "source": [
    "%%writefile $docker_file_path \n",
    "\n",
    "FROM continuumio/miniconda3:4.7.10    \n",
    "MAINTAINER George Iordanescu <ghiordan@microsoft.com>\n",
    "\n",
    "RUN apt-get update --fix-missing && apt-get install -y --no-install-recommends \\\n",
    "    gcc g++ \\\n",
    "    wget bzip2 \\\n",
    "    curl \\\n",
    "    git make \\\n",
    "    mpich \\ \n",
    "    libmpich-dev && \\\n",
    "    apt-get clean && \\\n",
    "    rm -rf /var/lib/apt/lists/*\n",
    "\n",
    "ENV CONDA_ENV_FILE_NAME conda_env_fwi01_azureml_sdk.v1.0.65.yml\n",
    "ADD $CONDA_ENV_FILE_NAME /tmp/$CONDA_ENV_FILE_NAME\n",
    "ENV CONDA_DIR /opt/conda\n",
    "ENV CONDA_ENV_NAME fwi01_conda_env\n",
    "\n",
    "RUN git clone https://github.com/opesci/devito.git  && \\\n",
    "    cd devito  && \\\n",
    "    /opt/conda/bin/conda env create -q --name $CONDA_ENV_NAME -f environment.yml && \\\n",
    "    pip install -e . \n",
    "    \n",
    "ENV CONDA_AUTO_UPDATE_CONDA=false\n",
    "ENV CONDA_DEFAULT_ENV=$CONDA_ENV_NAME\n",
    "ENV CONDA_PREFIX=$CONDA_DIR/envs/$CONDA_DEFAULT_ENV\n",
    "ENV PATH=$CONDA_PREFIX/bin:/opt/conda/bin:$PATH   \n",
    "\n",
    "RUN /opt/conda/bin/conda env update --name $CONDA_ENV_NAME -f /tmp/$CONDA_ENV_FILE_NAME && \\\n",
    "    /opt/conda/bin/conda clean  --yes --all\n",
    "\n",
    "ENV PYTHONPATH=$PYTHONPATH:devito/app\n",
    "\n",
    "# WORKDIR /devito     \n",
    "    \n",
    "CMD /bin/bash"
   ]
  },
  {
   "cell_type": "code",
   "execution_count": 11,
   "metadata": {},
   "outputs": [
    {
     "name": "stdout",
     "output_type": "stream",
     "text": [
      "total 24\r\n",
      "-rw-r--r-- 1 root root 1098 Sep 25 00:39 Dockerfile_fwi01_azureml_sdk.v1.0.60\r\n",
      "-rw-r--r-- 1 root root 1098 Sep 26 19:04 Dockerfile_fwi01_azureml_sdk.v1.0.62\r\n",
      "-rw-r--r-- 1 root root 1085 Oct  7 22:25 Dockerfile_fwi01_azureml_sdk.v1.0.65\r\n",
      "-rw-r--r-- 1 root root  713 Sep 25 00:39 conda_env_fwi01_azureml_sdk.v1.0.60.yml\r\n",
      "-rw-r--r-- 1 root root  713 Sep 26 19:04 conda_env_fwi01_azureml_sdk.v1.0.62.yml\r\n",
      "-rw-r--r-- 1 root root  733 Oct  7 22:25 conda_env_fwi01_azureml_sdk.v1.0.65.yml\r\n"
     ]
    }
   ],
   "source": [
    "! ls -l $docker_file_dir"
   ]
  },
  {
   "cell_type": "code",
   "execution_count": 12,
   "metadata": {},
   "outputs": [
    {
     "data": {
      "text/plain": [
       "'docker build -t georgedockeraccount/fwi01_azureml:sdk.v1.0.65 -f /workspace/examples/imaging/azureml_devito/notebooks/./../temp/docker_build/Dockerfile_fwi01_azureml_sdk.v1.0.65 /workspace/examples/imaging/azureml_devito/notebooks/./../temp/docker_build '"
      ]
     },
     "execution_count": 12,
     "metadata": {},
     "output_type": "execute_result"
    },
    {
     "name": "stdout",
     "output_type": "stream",
     "text": [
      "Sending build context to Docker daemon  11.78kB\n",
      "Step 1/15 : FROM continuumio/miniconda3:4.7.10\n",
      " ---> 4a51de2367be\n",
      "Step 2/15 : MAINTAINER George Iordanescu <ghiordan@microsoft.com>\n",
      " ---> Using cache\n",
      " ---> fd7cf6c96c9d\n",
      "Step 3/15 : RUN apt-get update --fix-missing && apt-get install -y --no-install-recommends     gcc g++     wget bzip2     curl     git make     mpich     libmpich-dev &&     apt-get clean &&     rm -rf /var/lib/apt/lists/*\n",
      " ---> Using cache\n",
      " ---> 8d9b9aae4809\n",
      "Step 4/15 : ENV CONDA_ENV_FILE_NAME conda_env_fwi01_azureml_sdk.v1.0.65.yml\n",
      " ---> Using cache\n",
      " ---> 98c1084d1571\n",
      "Step 5/15 : ADD $CONDA_ENV_FILE_NAME /tmp/$CONDA_ENV_FILE_NAME\n",
      " ---> Using cache\n",
      " ---> 75c937721b70\n",
      "Step 6/15 : ENV CONDA_DIR /opt/conda\n",
      " ---> Using cache\n",
      " ---> 3dc77d946814\n",
      "Step 7/15 : ENV CONDA_ENV_NAME fwi01_conda_env\n",
      " ---> Using cache\n",
      " ---> 6c04ce507b84\n",
      "Step 8/15 : RUN git clone https://github.com/opesci/devito.git  &&     cd devito  &&     /opt/conda/bin/conda env create -q --name $CONDA_ENV_NAME -f environment.yml &&     pip install -e .\n",
      " ---> Using cache\n",
      " ---> 29bd65e2093a\n",
      "Step 9/15 : ENV CONDA_AUTO_UPDATE_CONDA=false\n",
      " ---> Using cache\n",
      " ---> 7b012fbffee0\n",
      "Step 10/15 : ENV CONDA_DEFAULT_ENV=$CONDA_ENV_NAME\n",
      " ---> Using cache\n",
      " ---> d693e9ba185b\n",
      "Step 11/15 : ENV CONDA_PREFIX=$CONDA_DIR/envs/$CONDA_DEFAULT_ENV\n",
      " ---> Using cache\n",
      " ---> 35f2022ed1b4\n",
      "Step 12/15 : ENV PATH=$CONDA_PREFIX/bin:/opt/conda/bin:$PATH\n",
      " ---> Using cache\n",
      " ---> b917898481e7\n",
      "Step 13/15 : RUN /opt/conda/bin/conda env update --name $CONDA_ENV_NAME -f /tmp/$CONDA_ENV_FILE_NAME &&     /opt/conda/bin/conda clean  --yes --all\n",
      " ---> Using cache\n",
      " ---> dccfdefe03c4\n",
      "Step 14/15 : ENV PYTHONPATH=$PYTHONPATH:devito/app\n",
      " ---> Using cache\n",
      " ---> ef2ab56fd9ae\n",
      "Step 15/15 : CMD /bin/bash\n",
      " ---> Using cache\n",
      " ---> 5b225e465622\n",
      "Successfully built 5b225e465622\n",
      "Successfully tagged georgedockeraccount/fwi01_azureml:sdk.v1.0.65\n"
     ]
    }
   ],
   "source": [
    "cli_command='docker build -t '+ docker_image_name + \\\n",
    "' -f ' + docker_file_path + \\\n",
    "' ' + docker_file_dir + ' ' +\\\n",
    "docker_build_no_cache  #'' #' --no-cache'\n",
    "\n",
    "\n",
    "cli_command\n",
    "! $cli_command"
   ]
  },
  {
   "cell_type": "markdown",
   "metadata": {},
   "source": [
    "Docker containers can be run using python docker sdk"
   ]
  },
  {
   "cell_type": "code",
   "execution_count": 13,
   "metadata": {},
   "outputs": [
    {
     "data": {
      "text/plain": [
       "'georgedockeraccount/fwi01_azureml:sdk.v1.0.65'"
      ]
     },
     "execution_count": 13,
     "metadata": {},
     "output_type": "execute_result"
    },
    {
     "data": {
      "text/plain": [
       "'bash -c \"pwd;python -c \\'import azureml.core;print(azureml.core.VERSION)\\'\"'"
      ]
     },
     "execution_count": 13,
     "metadata": {},
     "output_type": "execute_result"
    },
    {
     "data": {
      "text/plain": [
       "b'/\\n1.0.65\\n'"
      ]
     },
     "execution_count": 13,
     "metadata": {},
     "output_type": "execute_result"
    }
   ],
   "source": [
    "docker_image_name\n",
    "\n",
    "sh_command='bash -c \"pwd;python -c \\'import azureml.core;print(azureml.core.VERSION)\\'\"'\n",
    "sh_command\n",
    "client = docker.from_env()\n",
    "client.containers.run(docker_image_name, \n",
    "                      remove=True,\n",
    "                      volumes={os.getenv('DOCKER_CONTAINER_MOUNT_POINT'): {'bind': '/workspace', 'mode': 'rw'}},\n",
    "                      working_dir='/',\n",
    "                      command=sh_command)"
   ]
  },
  {
   "cell_type": "markdown",
   "metadata": {},
   "source": [
    "Docker containers can also be run in cli \n",
    "\n",
    "Here we also create a log file to capture commands execution in container. If flag docker_test_run_devito_tests is True, we run \n",
    "and capture test commands output. Tests take abou 15 minutes to run. If flag docker_test_run_devito_tests is False, we show the results of a previous session. "
   ]
  },
  {
   "cell_type": "code",
   "execution_count": 14,
   "metadata": {},
   "outputs": [
    {
     "data": {
      "text/plain": [
       "'./fwi01_azureml_buildexperimentationdockerimage.log'"
      ]
     },
     "execution_count": 14,
     "metadata": {},
     "output_type": "execute_result"
    }
   ],
   "source": [
    "fwi01_log_file = os.path.join(*(['.', 'fwi01_azureml_buildexperimentationdockerimage.log']))\n",
    "fwi01_log_file"
   ]
  },
  {
   "cell_type": "markdown",
   "metadata": {},
   "source": [
    "#### Create command for running devito tests, capture output in a log file, save log file outside container"
   ]
  },
  {
   "cell_type": "code",
   "execution_count": 15,
   "metadata": {},
   "outputs": [
    {
     "data": {
      "text/plain": [
       "''"
      ]
     },
     "execution_count": 15,
     "metadata": {},
     "output_type": "execute_result"
    }
   ],
   "source": [
    "if docker_test_run_devito_tests:\n",
    "    run_devito_tests_command = ' python -m pytest tests/ '   + \\\n",
    "'> ' + fwi01_log_file +' 2>&1; ' + \\\n",
    "' mv ' + fwi01_log_file + ' /workspace/'  \n",
    "    \n",
    "    with open(os.path.join(*(['.', 'fwi01_azureml_buildexperimentationdockerimage.log'])), \"w\") as crt_log_file:\n",
    "        print('Before running e13n container... ', file=crt_log_file)\n",
    "    print('\\ncontent of devito tests log file before testing:')\n",
    "    !cat $fwi01_log_file\n",
    "else:\n",
    "    run_devito_tests_command =  '' \n",
    "\n",
    "# run_devito_tests_command =  'ls -l > ./fwi01_azureml_buildexperimentationdockerimage.log 2>&1;  mv ./fwi01_azureml_buildexperimentationdockerimage.log /workspace/'\n",
    "run_devito_tests_command"
   ]
  },
  {
   "cell_type": "code",
   "execution_count": 16,
   "metadata": {},
   "outputs": [
    {
     "data": {
      "text/plain": [
       "'docker run -it --rm  --name fwi01_azureml_container  -v /datadrive01/prj/DeepSeismic/examples/imaging/azureml_devito/notebooks:/workspace:rw georgedockeraccount/fwi01_azureml:sdk.v1.0.65 /bin/bash -c \"conda env list ; ls -l /devito/tests;  python -c \\'import azureml.core;print(azureml.core.VERSION)\\'; cd /devito;  \"'"
      ]
     },
     "execution_count": 16,
     "metadata": {},
     "output_type": "execute_result"
    },
    {
     "name": "stdout",
     "output_type": "stream",
     "text": [
      "# conda environments:\n",
      "#\n",
      "base                     /opt/conda\n",
      "fwi01_conda_env       *  /opt/conda/envs/fwi01_conda_env\n",
      "\n",
      "total 504\n",
      "-rw-r--r-- 1 root root 11521 Oct  7 21:43 conftest.py\n",
      "-rw-r--r-- 1 root root  6425 Oct  7 21:43 test_adjoint.py\n",
      "-rw-r--r-- 1 root root 13882 Oct  7 21:43 test_autotuner.py\n",
      "-rw-r--r-- 1 root root  9727 Oct  7 21:43 test_checkpointing.py\n",
      "-rw-r--r-- 1 root root  1095 Oct  7 21:43 test_constant.py\n",
      "-rw-r--r-- 1 root root 52392 Oct  7 21:43 test_data.py\n",
      "-rw-r--r-- 1 root root   481 Oct  7 21:43 test_dependency_bugs.py\n",
      "-rw-r--r-- 1 root root 16585 Oct  7 21:43 test_derivatives.py\n",
      "-rw-r--r-- 1 root root 30846 Oct  7 21:43 test_dimension.py\n",
      "-rw-r--r-- 1 root root 21233 Oct  7 21:43 test_dle.py\n",
      "-rw-r--r-- 1 root root  1138 Oct  7 21:43 test_docstrings.py\n",
      "-rw-r--r-- 1 root root 26251 Oct  7 21:43 test_dse.py\n",
      "-rw-r--r-- 1 root root  8612 Oct  7 21:43 test_gradient.py\n",
      "-rw-r--r-- 1 root root 15229 Oct  7 21:43 test_interpolation.py\n",
      "-rw-r--r-- 1 root root 31514 Oct  7 21:43 test_ir.py\n",
      "-rw-r--r-- 1 root root 60563 Oct  7 21:43 test_mpi.py\n",
      "-rw-r--r-- 1 root root 61542 Oct  7 21:43 test_operator.py\n",
      "-rw-r--r-- 1 root root 11839 Oct  7 21:43 test_ops.py\n",
      "-rw-r--r-- 1 root root 11252 Oct  7 21:43 test_pickle.py\n",
      "-rw-r--r-- 1 root root  1815 Oct  7 21:43 test_resample.py\n",
      "-rw-r--r-- 1 root root  1754 Oct  7 21:43 test_save.py\n",
      "-rw-r--r-- 1 root root  5711 Oct  7 21:43 test_subdomains.py\n",
      "-rw-r--r-- 1 root root 10526 Oct  7 21:43 test_symbol_caching.py\n",
      "-rw-r--r-- 1 root root  1896 Oct  7 21:43 test_symbolic_coefficients.py\n",
      "-rw-r--r-- 1 root root  3186 Oct  7 21:43 test_timestepping.py\n",
      "-rw-r--r-- 1 root root   603 Oct  7 21:43 test_tools.py\n",
      "-rw-r--r-- 1 root root  3302 Oct  7 21:43 test_tti.py\n",
      "-rw-r--r-- 1 root root  8835 Oct  7 21:43 test_visitors.py\n",
      "-rw-r--r-- 1 root root 21810 Oct  7 21:43 test_yask.py\n",
      "1.0.65\n",
      "\n",
      "content of devito tests log file after testing:\n",
      "============================= test session starts ==============================\n",
      "platform linux -- Python 3.6.9, pytest-5.2.0, py-1.8.0, pluggy-0.13.0\n",
      "rootdir: /devito, inifile: setup.cfg\n",
      "plugins: nbval-0.9.3, cov-2.7.1\n",
      "collected 879 items / 2 skipped / 877 selected\n",
      "\n",
      "tests/test_adjoint.py ..........................                         [  2%]\n",
      "tests/test_autotuner.py ..........s....                                  [  4%]\n",
      "tests/test_checkpointing.py .......                                      [  5%]\n",
      "tests/test_constant.py .                                                 [  5%]\n",
      "tests/test_data.py ..........................ssssssssssssss.ss.          [ 10%]\n",
      "tests/test_dependency_bugs.py .                                          [ 10%]\n",
      "tests/test_derivatives.py .............................................. [ 15%]\n",
      "........................................................................ [ 24%]\n",
      "........................................................FF...F.......... [ 32%]\n",
      "......                                                                   [ 32%]\n",
      "tests/test_dimension.py ...............................                  [ 36%]\n",
      "tests/test_dle.py ...................................................... [ 42%]\n",
      ".........................................                                [ 47%]\n",
      "tests/test_docstrings.py ..............                                  [ 48%]\n",
      "tests/test_dse.py ......x............................................... [ 55%]\n",
      "......................s....                                              [ 58%]\n",
      "tests/test_gradient.py ....                                              [ 58%]\n",
      "tests/test_interpolation.py ........................                     [ 61%]\n",
      "tests/test_ir.py ....................................................... [ 67%]\n",
      "................                                                         [ 69%]\n",
      "tests/test_mpi.py ssssssssssssssssssssssssssssssssssssssssssssssssssssss [ 75%]\n",
      "s                                                                        [ 75%]\n",
      "tests/test_operator.py ................................................. [ 81%]\n",
      "........................................................................ [ 89%]\n",
      "..................                                                       [ 91%]\n",
      "tests/test_pickle.py ..............ss.                                   [ 93%]\n",
      "tests/test_resample.py .                                                 [ 93%]\n",
      "tests/test_save.py ..                                                    [ 93%]\n",
      "tests/test_subdomains.py ...                                             [ 94%]\n",
      "tests/test_symbol_caching.py ......................                      [ 96%]\n",
      "tests/test_symbolic_coefficients.py .....                                [ 97%]\n",
      "tests/test_timestepping.py .......                                       [ 97%]\n",
      "tests/test_tools.py .....                                                [ 98%]\n",
      "tests/test_tti.py ....                                                   [ 98%]\n",
      "tests/test_visitors.py .........                                         [100%]\n",
      "\n",
      "=================================== FAILURES ===================================\n",
      "____________________ TestFD.test_fd_adjoint[dx2-dx2-1-1-8] _____________________\n",
      "\n",
      "self = <test_derivatives.TestFD object at 0x7fdc40d8cf60>, so = 8, ndim = 1\n",
      "derivative = 'dx2', adjoint_name = 'dx2', adjoint_coeff = 1\n",
      "\n",
      "    @pytest.mark.parametrize('so', [2, 4, 8, 12])\n",
      "    @pytest.mark.parametrize('ndim', [1, 2])\n",
      "    @pytest.mark.parametrize('derivative, adjoint_name, adjoint_coeff', [\n",
      "        ('dx', 'dx', -1),\n",
      "        ('dx2', 'dx2', 1),\n",
      "        ('dxl', 'dxr', -1),\n",
      "        ('dxr', 'dxl', -1)])\n",
      "    def test_fd_adjoint(self, so, ndim, derivative, adjoint_name, adjoint_coeff):\n",
      "        clear_cache()\n",
      "        grid = Grid(shape=tuple([51]*ndim), extent=tuple([25]*ndim))\n",
      "        x = grid.dimensions[0]\n",
      "        f = Function(name='f', grid=grid, space_order=so)\n",
      "        f_deriv = Function(name='f_deriv', grid=grid, space_order=so)\n",
      "        g = Function(name='g', grid=grid, space_order=so)\n",
      "        g_deriv = Function(name='g_deriv', grid=grid, space_order=so)\n",
      "    \n",
      "        # Fill f and g with smooth cos/sin\n",
      "        Operator([Eq(g, cos(2*np.pi*x/5)), Eq(f, sin(2*np.pi*x/8))]).apply()\n",
      "        # Check symbolic expression are expected ones for the adjoint .T\n",
      "        deriv = getattr(f, derivative)\n",
      "        expected = adjoint_coeff * getattr(f, adjoint_name).evaluate\n",
      "        assert deriv.T.evaluate == expected\n",
      "    \n",
      "        # Compute numerical derivatives and verify dot test\n",
      "        #  i.e <f.dx, g> = <f, g.dx.T>\n",
      "    \n",
      "        eq_f = Eq(f_deriv, deriv)\n",
      "        eq_g = Eq(g_deriv, getattr(g, derivative).T)\n",
      "    \n",
      "        op = Operator([eq_f, eq_g])\n",
      "        op()\n",
      "    \n",
      "        a = np.dot(f_deriv.data.reshape(-1), g.data.reshape(-1))\n",
      "        b = np.dot(g_deriv.data.reshape(-1), f.data.reshape(-1))\n",
      ">       assert np.isclose(1 - a/b, 0, atol=1e-5)\n",
      "E       assert False\n",
      "E        +  where False = <function isclose at 0x7fdc82f3c2f0>((1 - (0.3281994 / 0.3282032)), 0, atol=1e-05)\n",
      "E        +    where <function isclose at 0x7fdc82f3c2f0> = np.isclose\n",
      "\n",
      "tests/test_derivatives.py:397: AssertionError\n",
      "----------------------------- Captured stderr call -----------------------------\n",
      "Operator `Kernel` run in 0.01 s\n",
      "Operator `Kernel` run in 0.01 s\n",
      "------------------------------ Captured log call -------------------------------\n",
      "INFO     Devito:logger.py:121 Operator `Kernel` run in 0.01 s\n",
      "INFO     Devito:logger.py:121 Operator `Kernel` run in 0.01 s\n",
      "____________________ TestFD.test_fd_adjoint[dx2-dx2-1-1-12] ____________________\n",
      "\n",
      "self = <test_derivatives.TestFD object at 0x7fdbb221eef0>, so = 12, ndim = 1\n",
      "derivative = 'dx2', adjoint_name = 'dx2', adjoint_coeff = 1\n",
      "\n",
      "    @pytest.mark.parametrize('so', [2, 4, 8, 12])\n",
      "    @pytest.mark.parametrize('ndim', [1, 2])\n",
      "    @pytest.mark.parametrize('derivative, adjoint_name, adjoint_coeff', [\n",
      "        ('dx', 'dx', -1),\n",
      "        ('dx2', 'dx2', 1),\n",
      "        ('dxl', 'dxr', -1),\n",
      "        ('dxr', 'dxl', -1)])\n",
      "    def test_fd_adjoint(self, so, ndim, derivative, adjoint_name, adjoint_coeff):\n",
      "        clear_cache()\n",
      "        grid = Grid(shape=tuple([51]*ndim), extent=tuple([25]*ndim))\n",
      "        x = grid.dimensions[0]\n",
      "        f = Function(name='f', grid=grid, space_order=so)\n",
      "        f_deriv = Function(name='f_deriv', grid=grid, space_order=so)\n",
      "        g = Function(name='g', grid=grid, space_order=so)\n",
      "        g_deriv = Function(name='g_deriv', grid=grid, space_order=so)\n",
      "    \n",
      "        # Fill f and g with smooth cos/sin\n",
      "        Operator([Eq(g, cos(2*np.pi*x/5)), Eq(f, sin(2*np.pi*x/8))]).apply()\n",
      "        # Check symbolic expression are expected ones for the adjoint .T\n",
      "        deriv = getattr(f, derivative)\n",
      "        expected = adjoint_coeff * getattr(f, adjoint_name).evaluate\n",
      "        assert deriv.T.evaluate == expected\n",
      "    \n",
      "        # Compute numerical derivatives and verify dot test\n",
      "        #  i.e <f.dx, g> = <f, g.dx.T>\n",
      "    \n",
      "        eq_f = Eq(f_deriv, deriv)\n",
      "        eq_g = Eq(g_deriv, getattr(g, derivative).T)\n",
      "    \n",
      "        op = Operator([eq_f, eq_g])\n",
      "        op()\n",
      "    \n",
      "        a = np.dot(f_deriv.data.reshape(-1), g.data.reshape(-1))\n",
      "        b = np.dot(g_deriv.data.reshape(-1), f.data.reshape(-1))\n",
      ">       assert np.isclose(1 - a/b, 0, atol=1e-5)\n",
      "E       assert False\n",
      "E        +  where False = <function isclose at 0x7fdc82f3c2f0>((1 - (0.2223196 / 0.22231674)), 0, atol=1e-05)\n",
      "E        +    where <function isclose at 0x7fdc82f3c2f0> = np.isclose\n",
      "\n",
      "tests/test_derivatives.py:397: AssertionError\n",
      "----------------------------- Captured stderr call -----------------------------\n",
      "Operator `Kernel` run in 0.01 s\n",
      "Operator `Kernel` run in 0.01 s\n",
      "------------------------------ Captured log call -------------------------------\n",
      "INFO     Devito:logger.py:121 Operator `Kernel` run in 0.01 s\n",
      "INFO     Devito:logger.py:121 Operator `Kernel` run in 0.01 s\n",
      "____________________ TestFD.test_fd_adjoint[dx2-dx2-1-2-12] ____________________\n",
      "\n",
      "self = <test_derivatives.TestFD object at 0x7fdc41f0a9b0>, so = 12, ndim = 2\n",
      "derivative = 'dx2', adjoint_name = 'dx2', adjoint_coeff = 1\n",
      "\n",
      "    @pytest.mark.parametrize('so', [2, 4, 8, 12])\n",
      "    @pytest.mark.parametrize('ndim', [1, 2])\n",
      "    @pytest.mark.parametrize('derivative, adjoint_name, adjoint_coeff', [\n",
      "        ('dx', 'dx', -1),\n",
      "        ('dx2', 'dx2', 1),\n",
      "        ('dxl', 'dxr', -1),\n",
      "        ('dxr', 'dxl', -1)])\n",
      "    def test_fd_adjoint(self, so, ndim, derivative, adjoint_name, adjoint_coeff):\n",
      "        clear_cache()\n",
      "        grid = Grid(shape=tuple([51]*ndim), extent=tuple([25]*ndim))\n",
      "        x = grid.dimensions[0]\n",
      "        f = Function(name='f', grid=grid, space_order=so)\n",
      "        f_deriv = Function(name='f_deriv', grid=grid, space_order=so)\n",
      "        g = Function(name='g', grid=grid, space_order=so)\n",
      "        g_deriv = Function(name='g_deriv', grid=grid, space_order=so)\n",
      "    \n",
      "        # Fill f and g with smooth cos/sin\n",
      "        Operator([Eq(g, cos(2*np.pi*x/5)), Eq(f, sin(2*np.pi*x/8))]).apply()\n",
      "        # Check symbolic expression are expected ones for the adjoint .T\n",
      "        deriv = getattr(f, derivative)\n",
      "        expected = adjoint_coeff * getattr(f, adjoint_name).evaluate\n",
      "        assert deriv.T.evaluate == expected\n",
      "    \n",
      "        # Compute numerical derivatives and verify dot test\n",
      "        #  i.e <f.dx, g> = <f, g.dx.T>\n",
      "    \n",
      "        eq_f = Eq(f_deriv, deriv)\n",
      "        eq_g = Eq(g_deriv, getattr(g, derivative).T)\n",
      "    \n",
      "        op = Operator([eq_f, eq_g])\n",
      "        op()\n",
      "    \n",
      "        a = np.dot(f_deriv.data.reshape(-1), g.data.reshape(-1))\n",
      "        b = np.dot(g_deriv.data.reshape(-1), f.data.reshape(-1))\n",
      ">       assert np.isclose(1 - a/b, 0, atol=1e-5)\n",
      "E       assert False\n",
      "E        +  where False = <function isclose at 0x7fdc82f3c2f0>((1 - (11.338287 / 11.338157)), 0, atol=1e-05)\n",
      "E        +    where <function isclose at 0x7fdc82f3c2f0> = np.isclose\n",
      "\n",
      "tests/test_derivatives.py:397: AssertionError\n",
      "----------------------------- Captured stderr call -----------------------------\n",
      "Operator `Kernel` run in 0.01 s\n",
      "/tmp/devito-jitcache-uid0/d9e038c50e679daec98f5e80704a19e4aaf8e62c.c: In function ‘Kernel’:\n",
      "/tmp/devito-jitcache-uid0/d9e038c50e679daec98f5e80704a19e4aaf8e62c.c:39: warning: ignoring #pragma omp simd [-Wunknown-pragmas]\n",
      "     #pragma omp simd aligned(f,f_deriv,g,g_deriv:32)\n",
      " \n",
      "Operator `Kernel` run in 0.01 s\n",
      "------------------------------ Captured log call -------------------------------\n",
      "INFO     Devito:logger.py:121 Operator `Kernel` run in 0.01 s\n",
      "INFO     Devito:logger.py:121 Operator `Kernel` run in 0.01 s\n",
      "======= 3 failed, 800 passed, 77 skipped, 1 xfailed in 866.14s (0:14:26) =======\n"
     ]
    }
   ],
   "source": [
    "cli_command='docker run -it --rm  --name fwi01_azureml_container ' +\\\n",
    "' -v '+os.getenv('DOCKER_CONTAINER_MOUNT_POINT')+':/workspace:rw ' + \\\n",
    "docker_image_name + \\\n",
    "' /bin/bash -c \"conda env list ; ls -l /devito/tests;  '  + \\\n",
    "'python -c \\'import azureml.core;print(azureml.core.VERSION)\\'; '  + \\\n",
    "'cd /devito; '  + \\\n",
    "run_devito_tests_command +\\\n",
    "' \"'\n",
    "\n",
    "cli_command\n",
    "! $cli_command\n",
    "# # ============= 774 passed, 70 skipped, 1 xfailed in 1106.76 seconds =============\n",
    "print('\\ncontent of devito tests log file after testing:')\n",
    "!cat $fwi01_log_file"
   ]
  },
  {
   "cell_type": "code",
   "execution_count": 17,
   "metadata": {},
   "outputs": [
    {
     "name": "stdout",
     "output_type": "stream",
     "text": [
      "WARNING! Using --password via the CLI is insecure. Use --password-stdin.\n",
      "WARNING! Your password will be stored unencrypted in /root/.docker/config.json.\n",
      "Configure a credential helper to remove this warning. See\n",
      "https://docs.docker.com/engine/reference/commandline/login/#credentials-store\n",
      "\n",
      "Login Succeeded\n"
     ]
    }
   ],
   "source": [
    "docker_pwd = os.getenv('DOCKER_PWD')\n",
    "docker_login = os.getenv('DOCKER_LOGIN')\n",
    "!docker login -u=$docker_login -p=$docker_pwd"
   ]
  },
  {
   "cell_type": "code",
   "execution_count": 18,
   "metadata": {},
   "outputs": [
    {
     "name": "stdout",
     "output_type": "stream",
     "text": [
      "The push refers to repository [docker.io/georgedockeraccount/fwi01_azureml]\n",
      "\n",
      "\u001b[1B8da5e589: Preparing \n",
      "\u001b[1Ba559fdba: Preparing \n",
      "\u001b[1B772bb00d: Preparing \n",
      "\u001b[1B54377100: Preparing \n",
      "\u001b[1Bf8fc4c9a: Preparing \n",
      "\u001b[1Bba47210e: Preparing \n",
      "\u001b[4B54377100: Layer already exists \u001b[7A\u001b[1K\u001b[K\u001b[1A\u001b[1K\u001b[K\u001b[4A\u001b[1K\u001b[Ksdk.v1.0.65: digest: sha256:f327c88a842c9e77df4df9ae1b980367ea053be4a0c778e1647e105d2cbf08a3 size: 1800\n"
     ]
    }
   ],
   "source": [
    "# %%bash\n",
    "!docker push {docker_image_name}"
   ]
  },
  {
   "cell_type": "code",
   "execution_count": 19,
   "metadata": {},
   "outputs": [
    {
     "name": "stdout",
     "output_type": "stream",
     "text": [
      "Finished running 010_CreateExperimentationDockerImage_GeophysicsTutorial_FWI_Azure_devito!\n"
     ]
    }
   ],
   "source": [
    "# !jupyter nbconvert 010_CreateExperimentationDockerImage_GeophysicsTutorial_FWI_Azure_devito --to html\n",
    "print('Finished running 010_CreateExperimentationDockerImage_GeophysicsTutorial_FWI_Azure_devito!')"
   ]
  },
  {
   "cell_type": "code",
   "execution_count": null,
   "metadata": {},
   "outputs": [],
   "source": []
  }
 ],
 "metadata": {
  "kernelspec": {
   "display_name": "Python 3",
   "language": "python",
   "name": "python3"
  },
  "language_info": {
   "codemirror_mode": {
    "name": "ipython",
    "version": 3
   },
   "file_extension": ".py",
   "mimetype": "text/x-python",
   "name": "python",
   "nbconvert_exporter": "python",
   "pygments_lexer": "ipython3",
   "version": "3.6.9"
  }
 },
 "nbformat": 4,
 "nbformat_minor": 2
}
